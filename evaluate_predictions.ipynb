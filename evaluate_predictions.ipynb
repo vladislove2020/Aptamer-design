{
 "cells": [
  {
   "cell_type": "markdown",
   "id": "de3ea13c-4cb6-4598-a9a6-458b30026395",
   "metadata": {},
   "source": [
    "Это ноутбук для оценки RMSD предсказаний"
   ]
  },
  {
   "cell_type": "code",
   "execution_count": 2,
   "id": "636643fd-2c49-4778-a4ba-a48adfeed87a",
   "metadata": {},
   "outputs": [],
   "source": [
    "import numpy as np\n",
    "import pandas as pd\n",
    "\n",
    "import matplotlib.pyplot as plt\n",
    "\n",
    "import prody\n",
    "\n",
    "import os\n",
    "from glob import glob\n",
    "from tqdm import tqdm\n",
    "import json"
   ]
  },
  {
   "cell_type": "code",
   "execution_count": 3,
   "id": "9a19d0de-9deb-419a-817b-132ac52f78bc",
   "metadata": {},
   "outputs": [],
   "source": [
    "with open(\"/mnt/storage/vladislove2020/NP_benchmark/pdb_id_to_na_type.json\", \"r\") as js:\n",
    "    pdb_id_to_na_type = json.load(js)"
   ]
  },
  {
   "cell_type": "code",
   "execution_count": 2,
   "id": "1bdf1617-38fa-44cf-8b2c-0604df9af371",
   "metadata": {},
   "outputs": [],
   "source": [
    "original = prody.parsePDB(\"/mnt/storage/vladislove2020/masif_na/PN/1bdh.ent.pdb\")"
   ]
  },
  {
   "cell_type": "code",
   "execution_count": 11,
   "id": "ea21d913-b031-414a-a2a2-aaf64883f154",
   "metadata": {},
   "outputs": [],
   "source": [
    "prediction = prody.parsePDB(\"/mnt/storage/vladislove2020/NP_benchmark/chai-1/bench_1/results/1bdh/pred.model_idx_0.cif\")"
   ]
  },
  {
   "cell_type": "code",
   "execution_count": 31,
   "id": "6f8d1dcf-15da-443c-80ae-d77f36dec793",
   "metadata": {},
   "outputs": [
    {
     "data": {
      "text/plain": [
       "{'C', 'CA', 'N', 'O'}"
      ]
     },
     "execution_count": 31,
     "metadata": {},
     "output_type": "execute_result"
    }
   ],
   "source": [
    "{atom.getName() for atom in original.select(\"backbone\").iterAtoms()}"
   ]
  },
  {
   "cell_type": "code",
   "execution_count": 37,
   "id": "2475414d-b517-4708-8c43-49f362f92eec",
   "metadata": {},
   "outputs": [],
   "source": [
    "na_selstr = \"name C1' or name C2' or name C3' or name C4' or name C5'\"\n",
    "\n",
    "prediction_aligned = prody.superpose(\n",
    "    mobile=prediction.select(f\"backbone or {na_selstr}\"),\n",
    "    target=original.select(f\"backbone or {na_selstr}\")\n",
    ")"
   ]
  },
  {
   "cell_type": "code",
   "execution_count": 36,
   "id": "03ed7280-6282-4e5e-bfc8-afe1c899df81",
   "metadata": {},
   "outputs": [
    {
     "data": {
      "text/plain": [
       "<Selection: \"name C1' or nam...C4' or name C5'\" from 1bdh.ent (85 atoms)>"
      ]
     },
     "execution_count": 36,
     "metadata": {},
     "output_type": "execute_result"
    }
   ],
   "source": [
    "original.select(na_selstr)"
   ]
  },
  {
   "cell_type": "code",
   "execution_count": 41,
   "id": "6e6b47e5-4887-4b79-ad41-b238232e77a7",
   "metadata": {},
   "outputs": [
    {
     "data": {
      "text/plain": [
       "2.4736159988395428"
      ]
     },
     "execution_count": 41,
     "metadata": {},
     "output_type": "execute_result"
    }
   ],
   "source": [
    "prody.calcRMSD(original.select(f\"backbone or {na_selstr}\").getCoords(), prediction_aligned[0].getCoords())"
   ]
  },
  {
   "cell_type": "code",
   "execution_count": 4,
   "id": "1007c86a-3d91-4b7f-a40e-f276c5b8b157",
   "metadata": {},
   "outputs": [],
   "source": [
    "dna_residues = {'DA': 'A', 'DC': 'C', 'DG': 'G', 'DT': 'T', 'DU': 'U', 'GTP': 'G', 'GDP': 'G'}\n",
    "rna_residues = {'A': 'A', 'C': 'C', 'G': 'G', 'U': 'U', 'T': 'T', 'GTP': 'G', 'GDP': 'G'}\n",
    "\n",
    "def evaluate_prediction(original: prody.AtomGroup, prediction: prody.AtomGroup) -> float:\n",
    "    na_selstr = f\"(resname {' or resname '.join(list(dna_residues.keys()) + list(rna_residues.keys()))}) and name C1'\"  # \"name C1' or name C2' or name C3' or name C4' or name C5'\" - full\n",
    "    bb_selstr = \"backbone and name CA\"  # \"backbone\" - full\n",
    "\n",
    "    prediction_aligned = prody.superpose(\n",
    "        mobile=prediction.select(f\"{bb_selstr} or {na_selstr}\"),\n",
    "        target=original.select(f\"{bb_selstr} or {na_selstr}\")\n",
    "    )\n",
    "\n",
    "    return prody.calcRMSD(\n",
    "        original.select(f\"{bb_selstr} or {na_selstr}\").getCoords(),\n",
    "        prediction_aligned[0].getCoords()\n",
    "    )\n",
    "\n",
    "def evaluate_prediction_na_only(original: prody.AtomGroup, prediction: prody.AtomGroup) -> float:\n",
    "    na_selstr = f\"(resname {' or resname '.join(list(dna_residues.keys()) + list(rna_residues.keys()))}) and name C1'\"  # \"name C1' or name C2' or name C3' or name C4' or name C5'\" - full\n",
    "    bb_selstr = \"backbone and name CA\"  # \"backbone\" - full\n",
    "\n",
    "    prediction_aligned = prody.superpose(\n",
    "        mobile=prediction.select(f\"{bb_selstr} or {na_selstr}\"),\n",
    "        target=original.select(f\"{bb_selstr} or {na_selstr}\")\n",
    "    )\n",
    "\n",
    "    return prody.calcRMSD(\n",
    "        original.select(na_selstr).getCoords(),\n",
    "        prediction_aligned[0].select(na_selstr).getCoords()\n",
    "    )"
   ]
  },
  {
   "cell_type": "code",
   "execution_count": 141,
   "id": "83a13dab-22c4-498c-b2f6-77e0897eacb4",
   "metadata": {},
   "outputs": [
    {
     "data": {
      "text/plain": [
       "2.400346056204226"
      ]
     },
     "execution_count": 141,
     "metadata": {},
     "output_type": "execute_result"
    }
   ],
   "source": [
    "evaluate_prediction(\n",
    "    original=prody.parsePDB(\"/mnt/storage/vladislove2020/masif_na/PN/1bdh.ent.pdb\"),\n",
    "    prediction=prody.parsePDB(\"/mnt/storage/vladislove2020/NP_benchmark/chai-1/bench_1/results/1bdh/pred.model_idx_0.cif\")\n",
    ")"
   ]
  },
  {
   "cell_type": "code",
   "execution_count": 5,
   "id": "a48df09c-f3a0-4b18-bc9e-2eb15ab38742",
   "metadata": {},
   "outputs": [
    {
     "name": "stderr",
     "output_type": "stream",
     "text": [
      "100%|██████████| 1032/1032 [12:23<00:00,  1.39it/s]\n"
     ]
    }
   ],
   "source": [
    "rmsds_chai = {}\n",
    "\n",
    "for pdb_id in tqdm(os.listdir(\"/mnt/storage/vladislove2020/NP_benchmark/chai-1/bench_3/results/\")):\n",
    "    try:\n",
    "        rmsds_chai[pdb_id] = evaluate_prediction(\n",
    "            original=prody.parsePDB(f\"/mnt/storage/vladislove2020/masif_na/PN/{pdb_id}.ent.pdb\"),\n",
    "            prediction=prody.parsePDB(f\"/mnt/storage/vladislove2020/NP_benchmark/chai-1/bench_3/results/{pdb_id}/pred.model_idx_0.cif\")\n",
    "        )\n",
    "    except:\n",
    "        continue"
   ]
  },
  {
   "cell_type": "code",
   "execution_count": 6,
   "id": "c74ab96d-3d3b-4596-913a-5749864c57a3",
   "metadata": {},
   "outputs": [
    {
     "data": {
      "text/plain": [
       "859"
      ]
     },
     "execution_count": 6,
     "metadata": {},
     "output_type": "execute_result"
    }
   ],
   "source": [
    "len(rmsds_chai)"
   ]
  },
  {
   "cell_type": "code",
   "execution_count": 7,
   "id": "b9167ee8-da4b-496a-902c-c9ce52924d34",
   "metadata": {},
   "outputs": [
    {
     "name": "stderr",
     "output_type": "stream",
     "text": [
      "100%|██████████| 1032/1032 [05:48<00:00,  2.96it/s]\n"
     ]
    }
   ],
   "source": [
    "rmsds_boltz = {}\n",
    "\n",
    "for pdb_id in tqdm(os.listdir(\"/mnt/storage/vladislove2020/NP_benchmark/boltz-1/bench_3/results\")):\n",
    "    try:\n",
    "        rmsds_boltz[pdb_id] = evaluate_prediction(\n",
    "            original=prody.parsePDB(f\"/mnt/storage/vladislove2020/masif_na/PN/{pdb_id}.ent.pdb\"),\n",
    "            prediction=prody.parsePDB(\n",
    "f\"/mnt/storage/vladislove2020/NP_benchmark/boltz-1/bench_3/results/{pdb_id}/boltz_results_{pdb_id}/predictions/{pdb_id}/{pdb_id}_model_0.pdb\"\n",
    "            )\n",
    "        )\n",
    "    except:\n",
    "        continue"
   ]
  },
  {
   "cell_type": "code",
   "execution_count": 8,
   "id": "ecbd40ac-6291-4dab-b658-41bf52e9925e",
   "metadata": {},
   "outputs": [
    {
     "data": {
      "text/plain": [
       "877"
      ]
     },
     "execution_count": 8,
     "metadata": {},
     "output_type": "execute_result"
    }
   ],
   "source": [
    "len(rmsds_boltz)"
   ]
  },
  {
   "cell_type": "code",
   "execution_count": 9,
   "id": "037d2bc9-17b9-4de7-94e1-34bb8b2ba63a",
   "metadata": {},
   "outputs": [
    {
     "name": "stderr",
     "output_type": "stream",
     "text": [
      "100%|██████████| 1032/1032 [07:24<00:00,  2.32it/s]\n"
     ]
    }
   ],
   "source": [
    "rmsds_protenix = {}\n",
    "\n",
    "for pdb_id in tqdm(os.listdir(\"/mnt/storage/vladislove2020/NP_benchmark/protenix/bench_3/results\")):\n",
    "    try:\n",
    "        rmsds_protenix[pdb_id] = evaluate_prediction(\n",
    "            original=prody.parsePDB(f\"/mnt/storage/vladislove2020/masif_na/PN/{pdb_id}.ent.pdb\"),\n",
    "            prediction=prody.parsePDB(\n",
    "f\"/mnt/storage/vladislove2020/NP_benchmark/protenix/bench_3/results/{pdb_id}/{pdb_id}/seed_101/predictions/{pdb_id}_seed_101_sample_0.cif\"\n",
    "            )\n",
    "        )\n",
    "    except:\n",
    "        continue"
   ]
  },
  {
   "cell_type": "code",
   "execution_count": 10,
   "id": "302be8d1-50c7-4d5e-9155-f91a6d498290",
   "metadata": {},
   "outputs": [
    {
     "data": {
      "text/plain": [
       "903"
      ]
     },
     "execution_count": 10,
     "metadata": {},
     "output_type": "execute_result"
    }
   ],
   "source": [
    "len(rmsds_protenix)"
   ]
  },
  {
   "cell_type": "code",
   "execution_count": 12,
   "id": "5419b1b0-7178-4036-b93b-a0479d7bfe8d",
   "metadata": {},
   "outputs": [
    {
     "data": {
      "image/png": "[encoded data removed]",
      "text/plain": [
       "<Figure size 640x480 with 1 Axes>"
      ]
     },
     "metadata": {},
     "output_type": "display_data"
    }
   ],
   "source": [
    "common_pdb_ids = set(rmsds_chai.keys()).intersection(rmsds_boltz.keys()).intersection(rmsds_protenix.keys())\n",
    "\n",
    "plt.hist(\n",
    "    [value for (key, value) in rmsds_chai.items() if key in common_pdb_ids],\n",
    "    bins=50, range=(0, 25), alpha=0.7, color=\"green\", edgecolor=\"black\"\n",
    ")\n",
    "plt.hist(\n",
    "    [value for (key, value) in rmsds_boltz.items() if key in common_pdb_ids],\n",
    "    bins=50, range=(0, 25), alpha=0.7, color=\"violet\", edgecolor=\"black\"\n",
    ")\n",
    "plt.hist(\n",
    "    [value for (key, value) in rmsds_protenix.items() if key in common_pdb_ids],\n",
    "    bins=50, range=(0, 25), alpha=0.7, color=\"cyan\", edgecolor=\"black\"\n",
    ")\n",
    "\n",
    "plt.xlabel(\"RMSD, A\")\n",
    "\n",
    "# Создание собственных элементов легенды\n",
    "custom_legend_elements = [\n",
    "    plt.Line2D([0], [0], marker='s', color='w', label='Chai-1', markerfacecolor='green'),\n",
    "    plt.Line2D([0], [0], marker='s', color='w', label='Boltz-1', markerfacecolor='violet'),\n",
    "    plt.Line2D([0], [0], marker='s', color='w', label='Protenix', markerfacecolor='cyan')\n",
    "]\n",
    "\n",
    "# Отображаем легенду с нашими элементами\n",
    "plt.legend(handles=custom_legend_elements, loc='upper right', title=\"Инструменты\")\n",
    "\n",
    "plt.title(f\"RMSD by {len(common_pdb_ids)} structures\")\n",
    "\n",
    "plt.tight_layout()\n",
    "\n",
    "plt.savefig(\"/mnt/storage/vladislove2020/NP_benchmark/plots/three.png\", dpi=300)"
   ]
  },
  {
   "cell_type": "code",
   "execution_count": 117,
   "id": "c0c201ee-0eb6-4d24-9a29-b65a44a7dedd",
   "metadata": {},
   "outputs": [
    {
     "name": "stdout",
     "output_type": "stream",
     "text": [
      "1032 909\n"
     ]
    }
   ],
   "source": [
    "cnt, cnt_started = 0, 0\n",
    "for pdb_id in os.listdir(\"/mnt/storage/vladislove2020/NP_benchmark/chai-1/bench_3/results\"):\n",
    "    cnt += 1\n",
    "    if len(os.listdir(f\"/mnt/storage/vladislove2020/NP_benchmark/chai-1/bench_3/results/{pdb_id}\")) > 0:\n",
    "        cnt_started += 1\n",
    "print(cnt, cnt_started)"
   ]
  },
  {
   "cell_type": "code",
   "execution_count": 118,
   "id": "5cd58d4c-b048-4987-81db-8b57519d638b",
   "metadata": {},
   "outputs": [
    {
     "name": "stdout",
     "output_type": "stream",
     "text": [
      "1032 1011\n"
     ]
    }
   ],
   "source": [
    "cnt, cnt_started = 0, 0\n",
    "for pdb_id in os.listdir(\"/mnt/storage/vladislove2020/NP_benchmark/boltz-1/bench_3/results\"):\n",
    "    cnt += 1\n",
    "    if len(os.listdir(f\"/mnt/storage/vladislove2020/NP_benchmark/boltz-1/bench_3/results/{pdb_id}\")) > 0:\n",
    "        cnt_started += 1\n",
    "print(cnt, cnt_started)"
   ]
  },
  {
   "cell_type": "code",
   "execution_count": 246,
   "id": "93faf756-52db-4e1e-86e3-150678801e5d",
   "metadata": {},
   "outputs": [
    {
     "name": "stdout",
     "output_type": "stream",
     "text": [
      "1032 1020\n"
     ]
    }
   ],
   "source": [
    "cnt, cnt_started = 0, 0\n",
    "for pdb_id in os.listdir(\"/mnt/storage/vladislove2020/NP_benchmark/protenix/bench_3/results\"):\n",
    "    cnt += 1\n",
    "    if len(os.listdir(f\"/mnt/storage/vladislove2020/NP_benchmark/protenix/bench_3/results/{pdb_id}\")) > 0:\n",
    "        cnt_started += 1\n",
    "print(cnt, cnt_started)"
   ]
  },
  {
   "cell_type": "code",
   "execution_count": 116,
   "id": "d0eeb594-89ae-456c-8dad-38e8f44c2925",
   "metadata": {},
   "outputs": [],
   "source": [
    "!cp -r /mnt/storage/vladislove2020/NP_benchmark/chai-1/bench_2/results/* /mnt/storage/vladislove2020/NP_benchmark/chai-1/bench_3/results"
   ]
  },
  {
   "cell_type": "code",
   "execution_count": 17,
   "id": "eb49ef3f-a71e-4c80-89bd-0112376fd6e6",
   "metadata": {},
   "outputs": [
    {
     "data": {
      "image/png": "[encoded data removed]",
      "text/plain": [
       "<Figure size 640x480 with 1 Axes>"
      ]
     },
     "metadata": {},
     "output_type": "display_data"
    }
   ],
   "source": [
    "plt.boxplot(\n",
    "    [\n",
    "        [value for (key, value) in rmsds_chai.items() if key in common_pdb_ids],\n",
    "        [value for (key, value) in rmsds_boltz.items() if key in common_pdb_ids],\n",
    "        [value for (key, value) in rmsds_protenix.items() if key in common_pdb_ids]\n",
    "    ],\n",
    "    tick_labels=[\"Chai-1\", \"Boltz-1\", \"Protenix\"],\n",
    "    \n",
    ")\n",
    "plt.ylabel(\"RMSD, A\")\n",
    "\n",
    "plt.title(f\"RMSD by {len(common_pdb_ids)} structures\")\n",
    "\n",
    "plt.tight_layout()\n",
    "plt.savefig(\"/mnt/storage/vladislove2020/NP_benchmark/plots/three_boxplot.png\", dpi=300)"
   ]
  },
  {
   "cell_type": "code",
   "execution_count": 18,
   "id": "384f8f77-9d22-4736-bb70-c23f72b49def",
   "metadata": {},
   "outputs": [
    {
     "name": "stderr",
     "output_type": "stream",
     "text": [
      "100%|██████████| 1032/1032 [02:22<00:00,  7.24it/s]\n"
     ]
    }
   ],
   "source": [
    "rmsds_chai_na_only = {}\n",
    "\n",
    "for pdb_id in tqdm(os.listdir(\"/mnt/storage/vladislove2020/NP_benchmark/chai-1/bench_3/results/\")):\n",
    "    try:\n",
    "        rmsds_chai_na_only[pdb_id] = evaluate_prediction_na_only(\n",
    "            original=prody.parsePDB(f\"/mnt/storage/vladislove2020/masif_na/PN/{pdb_id}.ent.pdb\"),\n",
    "            prediction=prody.parsePDB(f\"/mnt/storage/vladislove2020/NP_benchmark/chai-1/bench_3/results/{pdb_id}/pred.model_idx_0.cif\")\n",
    "        )\n",
    "    except:\n",
    "        continue"
   ]
  },
  {
   "cell_type": "code",
   "execution_count": 19,
   "id": "d8c55259-19b9-42b8-8f00-7e83916c407a",
   "metadata": {},
   "outputs": [
    {
     "name": "stderr",
     "output_type": "stream",
     "text": [
      "100%|██████████| 1032/1032 [02:14<00:00,  7.67it/s]\n"
     ]
    }
   ],
   "source": [
    "rmsds_boltz_na_only = {}\n",
    "\n",
    "for pdb_id in tqdm(os.listdir(\"/mnt/storage/vladislove2020/NP_benchmark/boltz-1/bench_3/results/\")):\n",
    "    try:\n",
    "        rmsds_boltz_na_only[pdb_id] = evaluate_prediction_na_only(\n",
    "            original=prody.parsePDB(f\"/mnt/storage/vladislove2020/masif_na/PN/{pdb_id}.ent.pdb\"),\n",
    "            prediction=prody.parsePDB(\n",
    "f\"/mnt/storage/vladislove2020/NP_benchmark/boltz-1/bench_3/results/{pdb_id}/boltz_results_{pdb_id}/predictions/{pdb_id}/{pdb_id}_model_0.pdb\"\n",
    "            )\n",
    "        )\n",
    "    except:\n",
    "        continue"
   ]
  },
  {
   "cell_type": "code",
   "execution_count": 20,
   "id": "2a5579d2-2a84-4574-a0a3-b435699e8887",
   "metadata": {},
   "outputs": [
    {
     "name": "stderr",
     "output_type": "stream",
     "text": [
      "100%|██████████| 1032/1032 [02:27<00:00,  6.98it/s]\n"
     ]
    }
   ],
   "source": [
    "rmsds_protenix_na_only = {}\n",
    "\n",
    "for pdb_id in tqdm(os.listdir(\"/mnt/storage/vladislove2020/NP_benchmark/protenix/bench_3/results\")):\n",
    "    try:\n",
    "        rmsds_protenix_na_only[pdb_id] = evaluate_prediction_na_only(\n",
    "            original=prody.parsePDB(f\"/mnt/storage/vladislove2020/masif_na/PN/{pdb_id}.ent.pdb\"),\n",
    "            prediction=prody.parsePDB(\n",
    "f\"/mnt/storage/vladislove2020/NP_benchmark/protenix/bench_3/results/{pdb_id}/{pdb_id}/seed_101/predictions/{pdb_id}_seed_101_sample_0.cif\"\n",
    "            )\n",
    "        )\n",
    "    except:\n",
    "        continue"
   ]
  },
  {
   "cell_type": "code",
   "execution_count": 21,
   "id": "f9fbb669-8fdc-4fe3-97c0-b77555480d7a",
   "metadata": {},
   "outputs": [
    {
     "data": {
      "image/png": "[encoded data removed]",
      "text/plain": [
       "<Figure size 640x480 with 1 Axes>"
      ]
     },
     "metadata": {},
     "output_type": "display_data"
    }
   ],
   "source": [
    "rmsds_chai_rna = {key: value for (key, value) in rmsds_chai_na_only.items() if pdb_id_to_na_type[key] == \"rna\"}\n",
    "rmsds_boltz_rna = {key: value for (key, value) in rmsds_boltz_na_only.items() if pdb_id_to_na_type[key] == \"rna\"}\n",
    "rmsds_protenix_rna = {key: value for (key, value) in rmsds_protenix_na_only.items() if pdb_id_to_na_type[key] == \"rna\"}\n",
    "\n",
    "rmsds_chai_dna = {key: value for (key, value) in rmsds_chai_na_only.items() if pdb_id_to_na_type[key] == \"dna\"}\n",
    "rmsds_boltz_dna = {key: value for (key, value) in rmsds_boltz_na_only.items() if pdb_id_to_na_type[key] == \"dna\"}\n",
    "rmsds_protenix_dna = {key: value for (key, value) in rmsds_protenix_na_only.items() if pdb_id_to_na_type[key] == \"dna\"}\n",
    "\n",
    "common_pdb_ids_rna = set(rmsds_chai_rna.keys()).intersection(rmsds_boltz_rna.keys()).intersection(rmsds_protenix_rna.keys())\n",
    "common_pdb_ids_dna = set(rmsds_chai_dna.keys()).intersection(rmsds_boltz_dna.keys()).intersection(rmsds_protenix_dna.keys())\n",
    "\n",
    "plt.boxplot(\n",
    "    [\n",
    "        [value for (key, value) in rmsds_chai_rna.items() if key in common_pdb_ids_rna],\n",
    "        [value for (key, value) in rmsds_boltz_rna.items() if key in common_pdb_ids_rna],\n",
    "        [value for (key, value) in rmsds_protenix_rna.items() if key in common_pdb_ids_rna]\n",
    "    ],\n",
    "    tick_labels=[\"Chai-1\", \"Boltz-1\", \"Protenix\"],\n",
    "    \n",
    ")\n",
    "plt.ylabel(\"RMSD, A\")\n",
    "\n",
    "plt.title(f\"RMSD by {len(common_pdb_ids_rna)} structures (RNA only)\")\n",
    "\n",
    "plt.tight_layout()\n",
    "plt.savefig(\"/mnt/storage/vladislove2020/NP_benchmark/plots/three_boxplot_rna.png\", dpi=300)"
   ]
  },
  {
   "cell_type": "code",
   "execution_count": 22,
   "id": "3f778bba-80c5-4360-8cef-fd7ac525f266",
   "metadata": {},
   "outputs": [
    {
     "data": {
      "image/png": "[encoded data removed]",
      "text/plain": [
       "<Figure size 640x480 with 1 Axes>"
      ]
     },
     "metadata": {},
     "output_type": "display_data"
    }
   ],
   "source": [
    "plt.boxplot(\n",
    "    [\n",
    "        [value for (key, value) in rmsds_chai_dna.items() if key in common_pdb_ids_dna],\n",
    "        [value for (key, value) in rmsds_boltz_dna.items() if key in common_pdb_ids_dna],\n",
    "        [value for (key, value) in rmsds_protenix_dna.items() if key in common_pdb_ids_dna]\n",
    "    ],\n",
    "    tick_labels=[\"Chai-1\", \"Boltz-1\", \"Protenix\"],\n",
    "    \n",
    ")\n",
    "plt.ylabel(\"RMSD, A\")\n",
    "\n",
    "plt.title(f\"RMSD by {len(common_pdb_ids_dna)} structures (DNA only)\")\n",
    "\n",
    "plt.tight_layout()\n",
    "plt.savefig(\"/mnt/storage/vladislove2020/NP_benchmark/plots/three_boxplot_dna.png\", dpi=300)"
   ]
  },
  {
   "cell_type": "code",
   "execution_count": null,
   "id": "41c3cbaf-9b04-439c-aeff-7001c9be436c",
   "metadata": {},
   "outputs": [],
   "source": []
  }
 ],
 "metadata": {
  "kernelspec": {
   "display_name": "masif_na",
   "language": "python",
   "name": "masif_na"
  },
  "language_info": {
   "codemirror_mode": {
    "name": "ipython",
    "version": 3
   },
   "file_extension": ".py",
   "mimetype": "text/x-python",
   "name": "python",
   "nbconvert_exporter": "python",
   "pygments_lexer": "ipython3",
   "version": "3.9.20"
  }
 },
 "nbformat": 4,
 "nbformat_minor": 5
}
