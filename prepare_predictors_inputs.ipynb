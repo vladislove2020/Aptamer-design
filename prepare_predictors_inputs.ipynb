{
 "cells": [
  {
   "cell_type": "markdown",
   "id": "c2b36fe6-5c88-463c-99a2-c64ab00cc82e",
   "metadata": {},
   "source": [
    "Это ноутбук для подготовки данных и автоматического написания скриптов для запуска инструментов-предикторов"
   ]
  },
  {
   "cell_type": "code",
   "execution_count": 222,
   "id": "d4449840-4bb3-43a0-aed3-5eaa834ee24d",
   "metadata": {},
   "outputs": [],
   "source": [
    "from typing import List, Dict, Optional, Literal, Any\n",
    "from dataclasses import dataclass\n",
    "\n",
    "import numpy as np\n",
    "import pandas as pd\n",
    "\n",
    "import os\n",
    "import requests\n",
    "import tqdm\n",
    "\n",
    "import uuid\n",
    "import json\n",
    "\n",
    "import prody"
   ]
  },
  {
   "cell_type": "code",
   "execution_count": 248,
   "id": "4b2ff675-7016-4fc1-9f8b-38cfe025f118",
   "metadata": {},
   "outputs": [],
   "source": [
    "@dataclass\n",
    "class Chain:\n",
    "    sequence: str\n",
    "    molecule_type: Literal[\"protein\", \"dna\", \"rna\"]\n",
    "    pdb_id: Optional[str]\n",
    "\n",
    "    def __post_init__(self):\n",
    "        self.pdb_id = self.pdb_id or \"DEFAULT_PDB_ID\"\n",
    "        self.pdb_id = self.pdb_id.upper()\n",
    "\n",
    "    # Функция соавторства GigaChat\n",
    "    @classmethod\n",
    "    def from_prody_chain(cls, chain: prody.Chain, pdb_id: Optional[str] = None):\n",
    "        \"\"\"\n",
    "        Пока что без поддержки модифицированных остатков/нуклеотидов\n",
    "        \"\"\"\n",
    "\n",
    "        protein_residues = {'ALA': 'A', 'ARG': 'R', 'ASN': 'N', 'ASP': 'D', 'CYS': 'C', 'GLN': 'Q', 'GLU': 'E',\n",
    "                            'GLY': 'E', 'HIS': 'H', 'ILE': 'I', 'LEU': 'L', 'LYS': 'K', 'MET': 'M', 'PHE': 'F',\n",
    "                            'PRO': 'P', 'SER': 'S', 'THR': 'T', 'TRP': 'W', 'TYR': 'Y', 'VAL': 'V',\n",
    "                            # Нетрадиционные ребята, но их просто заменяем\n",
    "                            'MSE': 'M', 'PTR': 'Y', 'SEP': 'S', 'CME': 'C', 'TPO': 'T', 'CSO': 'C'}\n",
    "        dna_residues = {'DA': 'A', 'DC': 'C', 'DG': 'G', 'DT': 'T', 'DU': 'U', 'GTP': 'G', 'GDP': 'G'}\n",
    "        rna_residues = {'A': 'A', 'C': 'C', 'G': 'G', 'U': 'U', 'T': 'T', 'GTP': 'G', 'GDP': 'G'}\n",
    "\n",
    "        residues = (\n",
    "            chain.select(\"name CA\")  # protein\n",
    "            or chain.select(\"name N1\")  # NA\n",
    "        )\n",
    "\n",
    "        if not residues:\n",
    "            return None\n",
    "\n",
    "        residues = residues.select(\"protein or nucleic\")\n",
    "\n",
    "        if not residues:\n",
    "            return None\n",
    "\n",
    "        resnames = residues.getResnames()\n",
    "        unique_resnames = set(resnames)\n",
    "\n",
    "        if unique_resnames.issubset(set(protein_residues.keys())):\n",
    "            return cls(\n",
    "                sequence=\"\".join(protein_residues[resname] for resname in resnames),\n",
    "                molecule_type=\"protein\",\n",
    "                pdb_id=pdb_id,\n",
    "            )\n",
    "\n",
    "        if unique_resnames.issubset(set(dna_residues.keys())):\n",
    "            return cls(\n",
    "                sequence=\"\".join(dna_residues[resname] for resname in resnames),\n",
    "                molecule_type=\"dna\",\n",
    "                pdb_id=pdb_id,\n",
    "            )\n",
    "\n",
    "        if unique_resnames.issubset(set(rna_residues.keys())):\n",
    "            return cls(\n",
    "                sequence=\"\".join(rna_residues[resname] for resname in resnames),\n",
    "                molecule_type=\"rna\",\n",
    "                pdb_id=pdb_id,\n",
    "            )\n",
    "\n",
    "        # print(pdb_id, unique_resnames - set(protein_residues.keys()) - set(dna_residues.keys()) - set(rna_residues.keys()))\n",
    "        return None\n",
    "\n",
    "    def to_fasta_string_chai(self) -> str:\n",
    "        \"\"\"\n",
    "        >rna|4N2Q_rna\n",
    "        \"\"\"\n",
    "        # Chai ругается, если имена цепей не уникальные\n",
    "        header = \">\" + self.molecule_type + \"|\" + (self.pdb_id or \"DEFAULT_PDB_ID\") + \"_\" + self.molecule_type + \"_\" + str(uuid.uuid4())\n",
    "        return header + \"\\n\" + self.sequence + \"\\n\"\n",
    "\n",
    "    def to_fasta_string_boltz(self, index=0) -> str:\n",
    "        \"\"\"\n",
    "        >r|rna\n",
    "        \"\"\"\n",
    "        # У Больца странный баг, что не однобуквенное название цепи вызывает KeyError\n",
    "        # Чтобы различать цепи, будем подавать на вход номер этой цепи в структуре (среди этого типа молекул),\n",
    "        # и по нему брать букву - заглавную для белка и малую для НК (жесть костыль, но а как)\n",
    "        alpha = [\"a\", \"b\", \"c\", \"d\", \"e\", \"f\", \"g\", \"h\", \"j\", \"k\", \"l\", \"m\", \"n\", \"o\", \n",
    "                 \"p\", \"q\", \"r\", \"s\", \"t\", \"u\", \"v\", \"w\", \"x\", \"y\", \"z\"]\n",
    "        chain_id = alpha[index].lower() if self.molecule_type in {\"rna\", \"dna\"} else alpha[index].upper()\n",
    "        header = \">\" + chain_id + \"|\" + self.molecule_type\n",
    "        # Указываем, что нет выравнивания, если белок\n",
    "        if self.molecule_type == \"protein\":\n",
    "            header += \"|empty\"\n",
    "        return header + \"\\n\" + self.sequence + \"\\n\"\n",
    "\n",
    "    def to_dict_protenix(self, msa_path=None) -> Dict[str, Any]:\n",
    "        outter_key_dict = {\n",
    "            \"protein\": \"proteinChain\",\n",
    "            \"rna\": \"rnaSequence\",\n",
    "            \"dna\": \"dnaSequence\"\n",
    "        }\n",
    "        result = {\n",
    "            outter_key_dict[self.molecule_type]: {\n",
    "                \"sequence\": self.sequence,\n",
    "                \"count\": 1\n",
    "            }\n",
    "        }\n",
    "        if self.molecule_type == \"protein\":\n",
    "            uid = str(uuid.uuid4())\n",
    "            a3m_string = \">query\\n\" + self.sequence\n",
    "            os.makedirs(f\"{msa_path}/{uid}\", exist_ok=True)\n",
    "            with open(f\"{msa_path}/{uid}/pairing.a3m\", \"w\") as f:\n",
    "                f.write(a3m_string)\n",
    "            with open(f\"{msa_path}/{uid}/non_pairing.a3m\", \"w\") as f:\n",
    "                f.write(a3m_string)\n",
    "            result[outter_key_dict[self.molecule_type]][\"msa\"] = {\n",
    "                \"precomputed_msa_dir\": f\"{msa_path}/{uid}\",\n",
    "                \"pairing_db\": \"uniref100\"\n",
    "            }\n",
    "        return result\n"
   ]
  },
  {
   "cell_type": "code",
   "execution_count": 249,
   "id": "ff2f31d3-d247-4cc4-8f97-74f20cfba1b2",
   "metadata": {},
   "outputs": [
    {
     "name": "stderr",
     "output_type": "stream",
     "text": [
      "100%|██████████| 1054/1054 [01:37<00:00, 10.79it/s]\n"
     ]
    }
   ],
   "source": [
    "fasta_strings_chai = {}\n",
    "fasta_strings_boltz = {}\n",
    "unluck_cnt = 0\n",
    "\n",
    "pdb_id_to_na_type = {}\n",
    "\n",
    "os.makedirs(f\"/mnt/storage/vladislove2020/NP_benchmark/protenix/bench_3/workdir\", exist_ok=True)\n",
    "\n",
    "for filename in tqdm.tqdm(os.listdir(\"/mnt/storage/vladislove2020/masif_na/PN\")):\n",
    "    try:\n",
    "        struct = prody.parsePDB(f\"/mnt/storage/vladislove2020/masif_na/PN/{filename}\")\n",
    "    except:\n",
    "        continue\n",
    "    pdb_id = filename.split(\".\")[0]\n",
    "    chains = []\n",
    "    for chain in struct.iterChains():\n",
    "        chain_datacls = Chain.from_prody_chain(chain=chain, pdb_id=pdb_id)\n",
    "        if not chain_datacls:\n",
    "            unluck_cnt += 1\n",
    "            continue\n",
    "        chains.append(\n",
    "            chain_datacls\n",
    "        )\n",
    "        \n",
    "    # DNA-RNA дуплексы не учитываем при разбивке по типу NA\n",
    "    if {chain.molecule_type for chain in chains} == {\"protein\", \"rna\"}:\n",
    "        pdb_id_to_na_type[pdb_id] = \"rna\"\n",
    "    elif {chain.molecule_type for chain in chains} == {\"protein\", \"dna\"}:\n",
    "        pdb_id_to_na_type[pdb_id] = \"dna\"\n",
    "    elif {chain.molecule_type for chain in chains} == {\"protein\", \"dna\", \"rna\"}:\n",
    "        pdb_id_to_na_type[pdb_id] = \"rna_dna\"\n",
    "    # else:\n",
    "    #     print(pdb_id, {chain.molecule_type for chain in chains})\n",
    "\n",
    "    if len(chains) > 24:\n",
    "        unluck_cnt += 1\n",
    "        # print(pdb_id)\n",
    "        continue\n",
    "    if set([chain.molecule_type for chain in chains]) not in [{\"dna\", \"protein\"}, {\"rna\", \"protein\"}]:\n",
    "        unluck_cnt += 1\n",
    "        continue\n",
    "    fasta_strings_chai[pdb_id] = \"\".join([chain.to_fasta_string_chai() for chain in chains])\n",
    "    fasta_strings_boltz[pdb_id] = \"\".join([chain.to_fasta_string_boltz(index=i) for i, chain in enumerate(chains)])\n",
    "\n",
    "    os.makedirs(f\"/mnt/storage/vladislove2020/NP_benchmark/protenix/bench_3/workdir/{pdb_id}\", exist_ok=True)\n",
    "    os.makedirs(f\"/mnt/storage/vladislove2020/NP_benchmark/protenix/bench_3/workdir/{pdb_id}/msa\", exist_ok=True)\n",
    "    with open(f\"/mnt/storage/vladislove2020/NP_benchmark/protenix/bench_3/workdir/{pdb_id}/input.json\", \"w\") as js:\n",
    "        json.dump(\n",
    "            obj=[\n",
    "                {\n",
    "                    \"sequences\": [\n",
    "                        chain.to_dict_protenix(\n",
    "                            msa_path=f\"/mnt/storage/vladislove2020/NP_benchmark/protenix/bench_3/workdir/{pdb_id}/msa\"\n",
    "                        ) for chain in chains\n",
    "                    ],\n",
    "                    \"name\": pdb_id\n",
    "                }\n",
    "            ],\n",
    "            fp=js,\n",
    "            ensure_ascii=False,\n",
    "            indent=4\n",
    "        )\n",
    "\n",
    "with open(\"/mnt/storage/vladislove2020/NP_benchmark/pdb_id_to_na_type.json\", \"w\") as js:\n",
    "    json.dump(\n",
    "        fp=js,\n",
    "        obj=pdb_id_to_na_type,\n",
    "        indent=4,\n",
    "        ensure_ascii=False\n",
    "    )"
   ]
  },
  {
   "cell_type": "code",
   "execution_count": 205,
   "id": "f7f3c9f0-9b70-4c46-9921-88f05aa45735",
   "metadata": {},
   "outputs": [
    {
     "data": {
      "text/plain": [
       "114"
      ]
     },
     "execution_count": 205,
     "metadata": {},
     "output_type": "execute_result"
    }
   ],
   "source": [
    "unluck_cnt"
   ]
  },
  {
   "cell_type": "code",
   "execution_count": 206,
   "id": "5982253a-f319-4273-b05d-5b5ae9c3a1e1",
   "metadata": {},
   "outputs": [
    {
     "data": {
      "text/plain": [
       "1020"
      ]
     },
     "execution_count": 206,
     "metadata": {},
     "output_type": "execute_result"
    }
   ],
   "source": [
    "len(fasta_strings_boltz)"
   ]
  },
  {
   "cell_type": "code",
   "execution_count": 207,
   "id": "6c5ee2d7-5b90-4721-a9cc-b2d3688c0c80",
   "metadata": {},
   "outputs": [],
   "source": [
    "fasta_dir_path_chai = \"/mnt/storage/vladislove2020/NP_benchmark/chai-1/fasta_inputs_unmodified_only\"\n",
    "os.makedirs(fasta_dir_path_chai, exist_ok=True)\n",
    "\n",
    "for pdb_id, fasta_string in fasta_strings_chai.items():\n",
    "    with open(f\"{fasta_dir_path_chai}/{pdb_id}.fasta\", \"w\") as file:\n",
    "        file.write(fasta_string)\n",
    "\n",
    "        \n",
    "fasta_dir_path_boltz = \"/mnt/storage/vladislove2020/NP_benchmark/boltz-1/fasta_inputs_unmodified_only\"\n",
    "os.makedirs(fasta_dir_path_boltz, exist_ok=True)\n",
    "\n",
    "for pdb_id, fasta_string in fasta_strings_boltz.items():\n",
    "    with open(f\"{fasta_dir_path_boltz}/{pdb_id}.fasta\", \"w\") as file:\n",
    "        file.write(fasta_string)\n",
    "\n",
    "\n",
    "# fasta_dir_path_rosettafold2na = \"/mnt/storage/vladislove2020/NP_benchmark/RosettaFold2NA/fasta_inputs_unmodified_only\"\n",
    "# os.makedirs(fasta_dir_path_rosettafold2na, exist_ok=True)\n",
    "\n",
    "# for pdb_id, fasta_strings in fasta_strings_rosettafold2na.items():\n",
    "#     for \n",
    "#     with open(f\"{fasta_dir_path_rosettafold2na}/{pdb_id}.fasta\", \"w\") as file:\n",
    "#         file.write(fasta_string)"
   ]
  },
  {
   "cell_type": "code",
   "execution_count": 208,
   "id": "3bd5c130-e448-4833-937e-e15bae21c2a5",
   "metadata": {},
   "outputs": [],
   "source": [
    "### Chai-1 script\n",
    "\n",
    "bench_path = \"/mnt/storage/vladislove2020/NP_benchmark/chai-1/bench_3\"\n",
    "os.makedirs(bench_path, exist_ok=True)\n",
    "os.makedirs(f\"{bench_path}/results\", exist_ok=True)\n",
    "\n",
    "script = \"#!/usr/bin/bash\\n\"\n",
    "\n",
    "for filename in os.listdir(fasta_dir_path_chai):\n",
    "    pdb_id = filename.split(\".\")[0]\n",
    "    os.makedirs(f\"{bench_path}/results/{pdb_id}\", exist_ok=True)\n",
    "    script += f\"chai-lab fold {fasta_dir_path_chai}/{filename} results/{pdb_id}\\n\"\n",
    "\n",
    "with open(f\"{bench_path}/chai.sh\", \"w\") as file:\n",
    "    file.write(script)"
   ]
  },
  {
   "cell_type": "code",
   "execution_count": 209,
   "id": "35bbaf44-f66e-4de7-a469-11b0c72e1bce",
   "metadata": {},
   "outputs": [
    {
     "name": "stdout",
     "output_type": "stream",
     "text": [
      "#!/usr/bin/bash\n",
      "chai-lab fold /mnt/storage/vladislove2020/NP_benchmark/chai-1/fasta_inputs_unmodified_only/1m8x.fasta results/1m8x\n",
      "chai-lab fold /mnt/storage/vladislove2020/NP_benchmark/chai-1/fasta_inputs_unmodified_only/6u7t.fasta results/6u7t\n",
      "chai-lab fold /mnt/storage/vladislove2020/NP_benchmark/chai-1/fasta_inputs_unmodified_only/5h1k.fasta results/5h1k\n",
      "chai-lab fold /mnt/storage/vladislove2020/NP_benchmark/chai-1/fasta_inputs_unmodified_only/5gnj.fasta results/5gnj\n",
      "chai-lab fold /mnt/storage/vladislove2020/NP_benchmark/chai-1/fasta_inputs_unmodified_only/6blw.fasta results/6blw\n",
      "chai-lab fold /mnt/storage/vladislove2020/NP_benchmark/chai-1/fasta_inputs_unmodified_only/4iqr.fasta results/4iqr\n",
      "chai-lab fold /mnt/storage/vladislove2020/NP_benchmark/chai-1/fasta_inputs_unmodified_only/3l2c.fasta results/3l2c\n"
     ]
    }
   ],
   "source": [
    "!head -8 /mnt/storage/vladislove2020/NP_benchmark/chai-1/bench_3/chai.sh"
   ]
  },
  {
   "cell_type": "code",
   "execution_count": 210,
   "id": "1265badf-d2e7-481f-8ed1-851a67923600",
   "metadata": {},
   "outputs": [],
   "source": [
    "!chmod +x /mnt/storage/vladislove2020/NP_benchmark/chai-1/bench_3/chai.sh"
   ]
  },
  {
   "cell_type": "markdown",
   "id": "bc965b02-3df4-43e2-945c-7d1fd8c2c772",
   "metadata": {},
   "source": [
    "Launch from tmux with conda from /home/domain/rubeckaya/miniconda3/envs/chai"
   ]
  },
  {
   "cell_type": "code",
   "execution_count": 211,
   "id": "747d9d49-3d53-4611-835f-82dca8cc4ed8",
   "metadata": {},
   "outputs": [],
   "source": [
    "### Boltz-1 script\n",
    "\n",
    "bench_path = \"/mnt/storage/vladislove2020/NP_benchmark/boltz-1/bench_3\"\n",
    "os.makedirs(bench_path, exist_ok=True)\n",
    "os.makedirs(f\"{bench_path}/results\", exist_ok=True)\n",
    "\n",
    "script = \"#!/usr/bin/bash\\n\"\n",
    "\n",
    "for filename in os.listdir(fasta_dir_path_boltz):\n",
    "    pdb_id = filename.split(\".\")[0]\n",
    "    os.makedirs(f\"{bench_path}/results/{pdb_id}\", exist_ok=True)\n",
    "    script += f\"boltz predict {fasta_dir_path_boltz}/{filename} --out_dir results/{pdb_id} --output_format pdb\\n\"\n",
    "\n",
    "with open(f\"{bench_path}/boltz.sh\", \"w\") as file:\n",
    "    file.write(script)"
   ]
  },
  {
   "cell_type": "code",
   "execution_count": 212,
   "id": "ebd4309c-f306-449f-a6c7-9f5766c93672",
   "metadata": {},
   "outputs": [
    {
     "name": "stdout",
     "output_type": "stream",
     "text": [
      "#!/usr/bin/bash\n",
      "boltz predict /mnt/storage/vladislove2020/NP_benchmark/boltz-1/fasta_inputs_unmodified_only/3uzt.fasta --out_dir results/3uzt --output_format pdb\n",
      "boltz predict /mnt/storage/vladislove2020/NP_benchmark/boltz-1/fasta_inputs_unmodified_only/1vfc.fasta --out_dir results/1vfc --output_format pdb\n",
      "boltz predict /mnt/storage/vladislove2020/NP_benchmark/boltz-1/fasta_inputs_unmodified_only/3adb.fasta --out_dir results/3adb --output_format pdb\n",
      "boltz predict /mnt/storage/vladislove2020/NP_benchmark/boltz-1/fasta_inputs_unmodified_only/5d4s.fasta --out_dir results/5d4s --output_format pdb\n",
      "boltz predict /mnt/storage/vladislove2020/NP_benchmark/boltz-1/fasta_inputs_unmodified_only/6cnq.fasta --out_dir results/6cnq --output_format pdb\n",
      "boltz predict /mnt/storage/vladislove2020/NP_benchmark/boltz-1/fasta_inputs_unmodified_only/5wwe.fasta --out_dir results/5wwe --output_format pdb\n",
      "boltz predict /mnt/storage/vladislove2020/NP_benchmark/boltz-1/fasta_inputs_unmodified_only/1u1r.fasta --out_dir results/1u1r --output_format pdb\n"
     ]
    }
   ],
   "source": [
    "!head -8 /mnt/storage/vladislove2020/NP_benchmark/boltz-1/bench_3/boltz.sh"
   ]
  },
  {
   "cell_type": "code",
   "execution_count": 213,
   "id": "c2d20c31-a578-4452-8f0b-131423878d63",
   "metadata": {},
   "outputs": [],
   "source": [
    "!chmod +x /mnt/storage/vladislove2020/NP_benchmark/boltz-1/bench_3/boltz.sh"
   ]
  },
  {
   "cell_type": "markdown",
   "id": "203f1913-25da-4c77-a13c-ddf929c2cfaa",
   "metadata": {},
   "source": [
    "Launch from tmux with conda from /home/domain/vladislove2020/miniconda3/envs/boltz"
   ]
  },
  {
   "cell_type": "code",
   "execution_count": 250,
   "id": "824a89ad-839b-4734-83ad-5d2a0e77e59b",
   "metadata": {},
   "outputs": [],
   "source": [
    "# Protenix script\n",
    "bench_path = \"/mnt/storage/vladislove2020/NP_benchmark/protenix/bench_3\"\n",
    "os.makedirs(f\"{bench_path}/results\", exist_ok=True)\n",
    "\n",
    "script = \"#!/usr/bin/bash\\n\"\n",
    "\n",
    "for filename in os.listdir(fasta_dir_path_boltz):\n",
    "    pdb_id = filename.split(\".\")[0]\n",
    "    os.makedirs(f\"{bench_path}/results/{pdb_id}\", exist_ok=True)\n",
    "    script += f\"protenix predict --input {bench_path}/workdir/{pdb_id}/input.json --out_dir results/{pdb_id}\\n\"\n",
    "\n",
    "with open(f\"{bench_path}/protenix.sh\", \"w\") as file:\n",
    "    file.write(script)"
   ]
  },
  {
   "cell_type": "code",
   "execution_count": 251,
   "id": "7ff80df2-bc29-46c3-a5e9-1a3e375a8fd8",
   "metadata": {},
   "outputs": [],
   "source": [
    "!chmod +x /mnt/storage/vladislove2020/NP_benchmark/protenix/bench_3/protenix.sh"
   ]
  },
  {
   "cell_type": "code",
   "execution_count": 252,
   "id": "017320c6-6045-4965-aba3-0c7ac79705b7",
   "metadata": {},
   "outputs": [
    {
     "name": "stdout",
     "output_type": "stream",
     "text": [
      "#!/usr/bin/bash\n",
      "protenix predict --input /mnt/storage/vladislove2020/NP_benchmark/protenix/bench_3/workdir/3uzt/input.json --out_dir results/3uzt\n",
      "protenix predict --input /mnt/storage/vladislove2020/NP_benchmark/protenix/bench_3/workdir/1vfc/input.json --out_dir results/1vfc\n",
      "protenix predict --input /mnt/storage/vladislove2020/NP_benchmark/protenix/bench_3/workdir/3adb/input.json --out_dir results/3adb\n",
      "protenix predict --input /mnt/storage/vladislove2020/NP_benchmark/protenix/bench_3/workdir/5d4s/input.json --out_dir results/5d4s\n",
      "protenix predict --input /mnt/storage/vladislove2020/NP_benchmark/protenix/bench_3/workdir/6cnq/input.json --out_dir results/6cnq\n",
      "protenix predict --input /mnt/storage/vladislove2020/NP_benchmark/protenix/bench_3/workdir/5wwe/input.json --out_dir results/5wwe\n",
      "protenix predict --input /mnt/storage/vladislove2020/NP_benchmark/protenix/bench_3/workdir/1u1r/input.json --out_dir results/1u1r\n"
     ]
    }
   ],
   "source": [
    "!head -8 /mnt/storage/vladislove2020/NP_benchmark/protenix/bench_3/protenix.sh"
   ]
  },
  {
   "cell_type": "code",
   "execution_count": null,
   "id": "0812ad20-8b3d-41aa-bbf0-820a508e30c2",
   "metadata": {},
   "outputs": [],
   "source": []
  }
 ],
 "metadata": {
  "kernelspec": {
   "display_name": "masif_na",
   "language": "python",
   "name": "masif_na"
  },
  "language_info": {
   "codemirror_mode": {
    "name": "ipython",
    "version": 3
   },
   "file_extension": ".py",
   "mimetype": "text/x-python",
   "name": "python",
   "nbconvert_exporter": "python",
   "pygments_lexer": "ipython3",
   "version": "3.9.20"
  }
 },
 "nbformat": 4,
 "nbformat_minor": 5
}
