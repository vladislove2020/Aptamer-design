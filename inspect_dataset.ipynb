{
 "cells": [
  {
   "cell_type": "markdown",
   "id": "40afb7ab-f12f-45eb-aa55-17d405606f74",
   "metadata": {},
   "source": [
    "Это ноутбук для просмотра статистики по собранному из PDB датасету"
   ]
  },
  {
   "cell_type": "code",
   "execution_count": 4,
   "id": "0056af93-472a-469a-9b8d-92fa661889ff",
   "metadata": {},
   "outputs": [],
   "source": [
    "import json\n",
    "import numpy as np\n",
    "import pandas as pd\n",
    "import matplotlib.pyplot as plt"
   ]
  },
  {
   "cell_type": "code",
   "execution_count": 2,
   "id": "6f628be6-ac2d-4324-b636-4bf5769628d0",
   "metadata": {},
   "outputs": [],
   "source": [
    "with open(\"/home/domain/vladislove2020/JupiterNotebooks/masif_na/protein_na_complexes_info.json\", \"r\") as js:\n",
    "    dataset = json.load(fp=js)"
   ]
  },
  {
   "cell_type": "code",
   "execution_count": 3,
   "id": "3129a8f5-f35d-4877-9678-8e0ad1300841",
   "metadata": {},
   "outputs": [
    {
     "data": {
      "text/plain": [
       "14076"
      ]
     },
     "execution_count": 3,
     "metadata": {},
     "output_type": "execute_result"
    }
   ],
   "source": [
    "dataset_clean = {}\n",
    "\n",
    "for pdb_id, info in dataset.items():\n",
    "    if len(info[\"chains\"]) != 0:\n",
    "        dataset_clean[pdb_id] = info\n",
    "        \n",
    "len(dataset_clean)"
   ]
  },
  {
   "cell_type": "code",
   "execution_count": 12,
   "id": "a76a2749-fe40-4b61-a4e1-110a6f6b0fc3",
   "metadata": {},
   "outputs": [],
   "source": [
    "with open(\"/home/domain/vladislove2020/JupiterNotebooks/masif_na/protein_na_complexes_info_clean.json\", \"w\") as js:\n",
    "    json.dump(\n",
    "        fp=js,\n",
    "        obj=dataset_clean,\n",
    "        indent=4,\n",
    "        ensure_ascii=False\n",
    "    )"
   ]
  },
  {
   "cell_type": "code",
   "execution_count": 13,
   "id": "1d57fdf7-1023-47b9-973b-3d24344e9fb2",
   "metadata": {},
   "outputs": [
    {
     "data": {
      "text/plain": [
       "14076"
      ]
     },
     "execution_count": 13,
     "metadata": {},
     "output_type": "execute_result"
    }
   ],
   "source": [
    "len(dataset_clean)"
   ]
  },
  {
   "cell_type": "code",
   "execution_count": 14,
   "id": "d798e473-009f-49f7-94bd-3b022cff71e4",
   "metadata": {},
   "outputs": [
    {
     "data": {
      "text/plain": [
       "'1NZ1'"
      ]
     },
     "execution_count": 14,
     "metadata": {},
     "output_type": "execute_result"
    }
   ],
   "source": [
    "list(dataset_clean.keys())[0]"
   ]
  },
  {
   "cell_type": "code",
   "execution_count": 15,
   "id": "f6a74493-3c93-4ab9-a867-387b37ffa638",
   "metadata": {},
   "outputs": [
    {
     "data": {
      "text/plain": [
       "{'pdb_id': '1NZ1',\n",
       " 'dna': False,\n",
       " 'rna': True,\n",
       " 'protein': False,\n",
       " 'chains': {'A': {'ids': ['A'],\n",
       "   'auth_ids': ['A'],\n",
       "   'chem_comp_monomers': ['A', 'C', 'G', 'SSU', 'U'],\n",
       "   'molecule_type': 'RNA',\n",
       "   'sequence': 'GGUUCCCCUGCAUAAGGAUGAACC',\n",
       "   'entity_id': 1}}}"
      ]
     },
     "execution_count": 15,
     "metadata": {},
     "output_type": "execute_result"
    }
   ],
   "source": [
    "dataset_clean[\"1NZ1\"]"
   ]
  },
  {
   "cell_type": "code",
   "execution_count": 4,
   "id": "acbfcbea-31e9-437d-b7ed-ef22fc689b1d",
   "metadata": {},
   "outputs": [
    {
     "data": {
      "text/html": [
       "<div>\n",
       "<style scoped>\n",
       "    .dataframe tbody tr th:only-of-type {\n",
       "        vertical-align: middle;\n",
       "    }\n",
       "\n",
       "    .dataframe tbody tr th {\n",
       "        vertical-align: top;\n",
       "    }\n",
       "\n",
       "    .dataframe thead th {\n",
       "        text-align: right;\n",
       "    }\n",
       "</style>\n",
       "<table border=\"1\" class=\"dataframe\">\n",
       "  <thead>\n",
       "    <tr style=\"text-align: right;\">\n",
       "      <th></th>\n",
       "      <th>dna</th>\n",
       "      <th>rna</th>\n",
       "      <th>protein</th>\n",
       "    </tr>\n",
       "    <tr>\n",
       "      <th>count</th>\n",
       "      <th></th>\n",
       "      <th></th>\n",
       "      <th></th>\n",
       "    </tr>\n",
       "  </thead>\n",
       "  <tbody>\n",
       "    <tr>\n",
       "      <th>0</th>\n",
       "      <td>0</td>\n",
       "      <td>0</td>\n",
       "      <td>0</td>\n",
       "    </tr>\n",
       "    <tr>\n",
       "      <th>0</th>\n",
       "      <td>0</td>\n",
       "      <td>0</td>\n",
       "      <td>1</td>\n",
       "    </tr>\n",
       "    <tr>\n",
       "      <th>1355</th>\n",
       "      <td>0</td>\n",
       "      <td>1</td>\n",
       "      <td>0</td>\n",
       "    </tr>\n",
       "    <tr>\n",
       "      <th>4269</th>\n",
       "      <td>0</td>\n",
       "      <td>1</td>\n",
       "      <td>1</td>\n",
       "    </tr>\n",
       "    <tr>\n",
       "      <th>1451</th>\n",
       "      <td>1</td>\n",
       "      <td>0</td>\n",
       "      <td>0</td>\n",
       "    </tr>\n",
       "    <tr>\n",
       "      <th>5818</th>\n",
       "      <td>1</td>\n",
       "      <td>0</td>\n",
       "      <td>1</td>\n",
       "    </tr>\n",
       "    <tr>\n",
       "      <th>59</th>\n",
       "      <td>1</td>\n",
       "      <td>1</td>\n",
       "      <td>0</td>\n",
       "    </tr>\n",
       "    <tr>\n",
       "      <th>1124</th>\n",
       "      <td>1</td>\n",
       "      <td>1</td>\n",
       "      <td>1</td>\n",
       "    </tr>\n",
       "  </tbody>\n",
       "</table>\n",
       "</div>"
      ],
      "text/plain": [
       "       dna  rna  protein\n",
       "count                   \n",
       "0        0    0        0\n",
       "0        0    0        1\n",
       "1355     0    1        0\n",
       "4269     0    1        1\n",
       "1451     1    0        0\n",
       "5818     1    0        1\n",
       "59       1    1        0\n",
       "1124     1    1        1"
      ]
     },
     "execution_count": 4,
     "metadata": {},
     "output_type": "execute_result"
    }
   ],
   "source": [
    "molecule_types = [\"dna\", \"rna\", \"protein\"]\n",
    "\n",
    "complex_stats = []\n",
    "\n",
    "for i in range(2 ** (len(molecule_types))):\n",
    "    descriptor = []\n",
    "    while i != 0:\n",
    "        descriptor.append(i % 2)\n",
    "        i = i // 2\n",
    "    descriptor = descriptor[: : -1]\n",
    "    additional_len = len(molecule_types) - len(descriptor)\n",
    "    descriptor = [0] * additional_len + descriptor\n",
    "\n",
    "    new_item = {}\n",
    "\n",
    "    for j, molecule_type in enumerate(molecule_types):\n",
    "        new_item[molecule_type] = descriptor[j]\n",
    "\n",
    "    new_item[\"count\"] = len(\n",
    "        [\n",
    "            pdb_id for pdb_id in dataset_clean\n",
    "            if descriptor == [int(dataset_clean[pdb_id][molecule_type]) for molecule_type in molecule_types]\n",
    "        ]\n",
    "    )\n",
    "\n",
    "    complex_stats.append(new_item)\n",
    "\n",
    "df = pd.DataFrame(complex_stats)\n",
    "df.set_index(\"count\", inplace=True)\n",
    "df"
   ]
  },
  {
   "cell_type": "code",
   "execution_count": 17,
   "id": "ff1b2d2f-d5e9-443c-8a5c-4a02ddcc00fb",
   "metadata": {},
   "outputs": [
    {
     "data": {
      "image/png": "[encoded data removed]",
      "text/plain": [
       "<Figure size 640x480 with 1 Axes>"
      ]
     },
     "metadata": {},
     "output_type": "display_data"
    }
   ],
   "source": [
    "# Распределение по количеству цепей\n",
    "plt.hist(\n",
    "    [len(item[\"chains\"]) for item in dataset_clean.values()],\n",
    "    bins=100\n",
    ");"
   ]
  },
  {
   "cell_type": "code",
   "execution_count": 37,
   "id": "2893a2ae-b9a9-4419-abc8-3954395a11ab",
   "metadata": {},
   "outputs": [
    {
     "data": {
      "image/png": "[encoded data removed]",
      "text/plain": [
       "<Figure size 640x480 with 1 Axes>"
      ]
     },
     "metadata": {},
     "output_type": "display_data"
    }
   ],
   "source": [
    "# Распределение по количеству цепей (log по y)\n",
    "plt.hist(\n",
    "    [len(item[\"chains\"]) for item in dataset_clean.values()],\n",
    "    bins=100,\n",
    "    color=\"violet\",\n",
    "    edgecolor=\"black\"\n",
    ")\n",
    "plt.xlabel(\"Количество цепей в структуре\")\n",
    "plt.yscale('log')\n",
    "plt.savefig(\"/mnt/storage/vladislove2020/NP_benchmark/plots/dataset_total_chains.png\", dpi=300);"
   ]
  },
  {
   "cell_type": "code",
   "execution_count": 25,
   "id": "227fdd84-a11d-439c-ac3f-be9e8fe2ae94",
   "metadata": {},
   "outputs": [
    {
     "name": "stdout",
     "output_type": "stream",
     "text": [
      "8APN 121\n",
      "4V5X 162\n",
      "8APO 119\n",
      "7ARV 195\n",
      "7AS5 455\n",
      "6BY7 118\n",
      "8A22 116\n",
      "9G6K 102\n",
      "7BHO 238\n",
      "7ANE 122\n",
      "7ARE 203\n",
      "7ART 212\n",
      "7ARY 192\n",
      "6HIV 142\n"
     ]
    }
   ],
   "source": [
    "for item in dataset_clean.values():\n",
    "    if len(item[\"chains\"]) > 100:\n",
    "        print(item[\"pdb_id\"], len(item[\"chains\"]))"
   ]
  },
  {
   "cell_type": "code",
   "execution_count": 18,
   "id": "1bf71c0e-156c-4fe4-9b79-280479e5623b",
   "metadata": {},
   "outputs": [
    {
     "data": {
      "image/png": "[encoded data removed]",
      "text/plain": [
       "<Figure size 640x480 with 1 Axes>"
      ]
     },
     "metadata": {},
     "output_type": "display_data"
    }
   ],
   "source": [
    "# Распределение по общей длине цепей\n",
    "plt.hist(\n",
    "    [len(\"\".join([chain[\"sequence\"] for chain in item[\"chains\"].values()])) for item in dataset_clean.values()],\n",
    "    bins=100\n",
    ");"
   ]
  },
  {
   "cell_type": "code",
   "execution_count": 36,
   "id": "70434f53-6c2f-4b75-b716-aaf12e981e77",
   "metadata": {},
   "outputs": [
    {
     "data": {
      "image/png": "[encoded data removed]",
      "text/plain": [
       "<Figure size 640x480 with 1 Axes>"
      ]
     },
     "metadata": {},
     "output_type": "display_data"
    }
   ],
   "source": [
    "# Распределение по общей длине цепей (log по y)\n",
    "plt.hist(\n",
    "    [len(\"\".join([chain[\"sequence\"] for chain in item[\"chains\"].values()])) for item in dataset_clean.values()],\n",
    "    bins=100,\n",
    "    color=\"violet\",\n",
    "    edgecolor=\"black\"\n",
    ")\n",
    "plt.xlabel(\"Общая длина цепей в структуре\")\n",
    "plt.yscale('log')\n",
    "plt.savefig(\"/mnt/storage/vladislove2020/NP_benchmark/plots/dataset_total_length.png\", dpi=300);"
   ]
  },
  {
   "cell_type": "code",
   "execution_count": 26,
   "id": "8ac9a4a9-0a49-4a6c-8f12-3f8dd5c73144",
   "metadata": {},
   "outputs": [
    {
     "data": {
      "text/plain": [
       "9395"
      ]
     },
     "execution_count": 26,
     "metadata": {},
     "output_type": "execute_result"
    }
   ],
   "source": [
    "len([item for item in dataset_clean.values() if len(\"\".join([chain[\"sequence\"] for chain in item[\"chains\"].values()])) < 1000])"
   ]
  },
  {
   "cell_type": "code",
   "execution_count": null,
   "id": "82ca6c15-e408-47f0-8f50-b34959523abe",
   "metadata": {},
   "outputs": [],
   "source": []
  }
 ],
 "metadata": {
  "kernelspec": {
   "display_name": "masif_na",
   "language": "python",
   "name": "masif_na"
  },
  "language_info": {
   "codemirror_mode": {
    "name": "ipython",
    "version": 3
   },
   "file_extension": ".py",
   "mimetype": "text/x-python",
   "name": "python",
   "nbconvert_exporter": "python",
   "pygments_lexer": "ipython3",
   "version": "3.9.20"
  }
 },
 "nbformat": 4,
 "nbformat_minor": 5
}
